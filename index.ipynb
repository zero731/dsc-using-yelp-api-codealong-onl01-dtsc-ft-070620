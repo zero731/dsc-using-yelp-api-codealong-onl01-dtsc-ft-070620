{
 "cells": [
  {
   "cell_type": "markdown",
   "metadata": {},
   "source": [
    "# Using the Yelp API - Codealong\n",
    "\n",
    "## Introduction\n",
    "\n",
    "Now that we've discussed HTTP requests and OAuth, it's time to practice applying those skills to a production level API. In this codealong, we'll take you through the process of signing up for an OAuth token and then using that to make requests to the Yelp API!\n",
    "\n",
    "## Objectives\n",
    "\n",
    "You will be able to:\n",
    "\n",
    "* Make requests using OAuth\n",
    "* Use the JSON module to load and parse JSON documents\n",
    "* Convert JSON to a pandas dataframe"
   ]
  },
  {
   "cell_type": "markdown",
   "metadata": {},
   "source": [
    "## Generating Access Tokens\n",
    "\n",
    "As discussed, in order to use many APIs, one needs to use OAuth which requires an access token. As such, our first step will be to generate this login information so that we can start making some requests.  \n",
    "\n",
    "With that, let's go grab an access token from an API site and make some API calls!\n",
    "Point your browser over to this [yelp page](https://www.yelp.com/developers/v3/manage_app) and start creating an app in order to obtain and API access token:\n",
    "\n",
    "![](./images/yelp_app.png)\n",
    "\n",
    "\n",
    "You can either sign in to an existing Yelp account or create a new one if needed.\n",
    "\n",
    "On the page you see above, simply fill out some sample information such as \"Flatiron Edu API Example\" for the app name, or whatever floats your boat. Afterward, you should be presented with an API key that you can use to make requests!\n",
    "\n",
    "With that, let's set up our authentication tokens so that we can start making some API calls!"
   ]
  },
  {
   "cell_type": "markdown",
   "metadata": {},
   "source": [
    "### Should I publicly share my passwords on Github?\n",
    "\n",
    "When using an API that requires an API key and password you should **NEVER** hardcode theses values into your main file. When you upload your project onto github it is completely public and vulnerable to attack. Assume that if you put sensitive information publicly on the internet it will be found and abused. \n",
    "\n",
    "To this end, how can we easily access our API key without opening ourselves up to vulnerabilities?\n",
    "\n",
    "There are many ways to store sensitive information but we will go with this method. "
   ]
  },
  {
   "cell_type": "markdown",
   "metadata": {},
   "source": [
    "#### Move to your home (root) directory:\n",
    "\n",
    "```\n",
    "cd ~\n",
    "```\n",
    "\n",
    "#### Now make the `.secret/` directory:\n",
    "\n",
    "```\n",
    "mkdir .secret\n",
    "```\n",
    "\n",
    "This will create a new folder in your home directory where you can store files for any of the API information you have. \n",
    "\n",
    "Can you find the file you just made in your terminal? \n",
    "NOTE: dot files won't show up with just `ls` you must use the show all command as well `ls -a`\n",
    "\n",
    "\n",
    "#### Move into the newly created `.secret/` folder and create a file using vscode or any text editor to store your yelp API login info.\n",
    "\n",
    "```\n",
    "cd .secret/\n",
    "code yelp_api.json\n",
    "```\n",
    "\n",
    "In this file, let's create a dictionary of values representing the client id and API key that looks something like this:\n",
    "\n",
    "`{\"api_key\": \"input api key here!\"}`\n",
    "\n",
    "NOTE: Double quotes are important! You'll copy and paste the `api_key` value that yelp grants you after you create your app.\n",
    "\n",
    "Ok, so now we have a file in our .secret folder on our home directory. Safe and sound (mostly) from anyone trying to steal our info off github.\n",
    "\n",
    "#### Finally, let's get our client id and API key into our jupyter notebook.\n",
    "\n",
    "If we remember that our file is just a regular JSON file, open the file and pull out the appropriate information from the `~/.secret/yelp_api.json` file. \n"
   ]
  },
  {
   "cell_type": "code",
   "execution_count": 18,
   "metadata": {},
   "outputs": [],
   "source": [
    "import json\n",
    "\n",
    "def get_keys(path):\n",
    "    with open(path) as f:\n",
    "        return json.load(f)"
   ]
  },
  {
   "cell_type": "markdown",
   "metadata": {},
   "source": [
    "> **Note**: Change the file path below to be your root directory. \n",
    "If you're not sure what your username is, check it with `pwd`  \n",
    "For example, my current working directory is ```/Users/matthew.mitchell/Documents/dsc-using-yelp-api-codealong```  \n",
    "So the line below would become:\n",
    "```keys = get_keys(\"/Users/matthew.mitchell/.secret/yelp_api.json\")```"
   ]
  },
  {
   "cell_type": "code",
   "execution_count": 19,
   "metadata": {},
   "outputs": [],
   "source": [
    "keys = get_keys(\"/Users/maxsteele/.secret/yelp_api.json\")\n",
    "\n",
    "api_key = keys['api_key']\n",
    "\n",
    "#While you may wish to print out these API keys to check that they imported properly,\n",
    "#be sure to clear the output before uploading to Github. \n",
    "#Again, you don't want your keys stolen!!!"
   ]
  },
  {
   "cell_type": "markdown",
   "metadata": {},
   "source": [
    "## An Example Request with OAuth <a id=\"oauth_request\"></a>\n",
    "https://www.yelp.com/developers/documentation/v3/get_started\n",
    "\n",
    "In the next lesson, we'll further dissect how to read and translate online documentation like the link here. For now, let's simply look at an example request and dissect it into its constituent parts:"
   ]
  },
  {
   "cell_type": "code",
   "execution_count": 20,
   "metadata": {},
   "outputs": [
    {
     "name": "stdout",
     "output_type": "stream",
     "text": [
      "<Response [200]>\n",
      "<class 'str'>\n",
      "{\"businesses\": [{\"id\": \"20G3V7x_XqKEwcgiB2RIDQ\", \"alias\": \"the-taco-spot-nyc-queens\", \"name\": \"The Taco Spot NYC\", \"image_url\": \"https://s3-media1.fl.yelpcdn.com/bphoto/yb-7najS1zIABdFaN82xXg/o.jpg\", \"is_closed\": false, \"url\": \"https://www.yelp.com/biz/the-taco-spot-nyc-queens?adjust_creative=6ObNOuQQ9GDPgs0E-sIgJA&utm_campaign=yelp_api_v3&utm_medium=api_v3_business_search&utm_source=6ObNOuQQ9GDPgs0E-sIgJA\", \"review_count\": 4, \"categories\": [{\"alias\": \"newmexican\", \"title\": \"New Mexican Cuisine\"}, {\"alias\": \"tacos\", \"title\": \"Tacos\"}], \"rating\": 5.0, \"coordinates\": {\"latitude\": 40.771282, \"longitude\": -73.9220834}, \"transactions\": [\"pickup\", \"delivery\"], \"location\": {\"address1\": \"25-17 Astoria Blvd\", \"address2\": \"\", \"address3\": null, \"city\": \"Queens\", \"zip_code\": \"11102\", \"country\": \"US\", \"state\": \"NY\", \"display_address\": [\"25-17 Astoria Blvd\", \"Queens, NY 11102\"]}, \"phone\": \"+13475271414\", \"display_phone\": \"(347) 527-1414\", \"distance\": 496.8180983238797}, {\"id\": \"yvva7IYpD6J7OfKlCdQrk\n"
     ]
    }
   ],
   "source": [
    "import requests\n",
    "term = 'Mexican'\n",
    "location = 'Astoria NY'\n",
    "SEARCH_LIMIT = 10\n",
    "\n",
    "url = 'https://api.yelp.com/v3/businesses/search'\n",
    "\n",
    "headers = {\n",
    "        'Authorization': 'Bearer {}'.format(api_key),\n",
    "    }\n",
    "\n",
    "url_params = {\n",
    "                'term': term.replace(' ', '+'),\n",
    "                'location': location.replace(' ', '+'),\n",
    "                'limit': SEARCH_LIMIT\n",
    "            }\n",
    "response = requests.get(url, headers=headers, params=url_params)\n",
    "print(response)\n",
    "print(type(response.text))\n",
    "print(response.text[:1000])"
   ]
  },
  {
   "cell_type": "markdown",
   "metadata": {},
   "source": [
    "## Breaking Down the Request\n",
    "\n",
    "As you can see, there are three main parts to our request.  \n",
    "  \n",
    "They are:\n",
    "* The URL\n",
    "* The header\n",
    "* The parameters\n",
    "  \n",
    "The URL is fairly straightforward and is simply the base URL as described in the documentation (again more details in the upcoming lesson).\n",
    "\n",
    "The header is a dictionary of key-value pairs. In this case, we are using a fairly standard header used by many APIs. It has a strict form where 'Authorization' is the key and 'Bearer YourApiKey' is the value.\n",
    "\n",
    "The parameters are the filters that we wish to pass into the query. These will be embedded into the URL when the request is made to the API. Similar to the header, they form key-value pairs. Valid key parameters by which to structure your queries are described in the API documentation which we'll look at further shortly. A final important note, however, is the need to replace spaces with \"+\". This is standard to many requests as URLs cannot contain spaces. (Note that the header itself isn't directly embedded into the URL itself and as such, the space between 'Bearer' and YourApiKey is valid.)\n"
   ]
  },
  {
   "cell_type": "markdown",
   "metadata": {},
   "source": [
    "## The Response\n",
    "\n",
    "As before, our response object has both a status code, as well as the data itself. With that, let's start with a little data exploration!"
   ]
  },
  {
   "cell_type": "code",
   "execution_count": 21,
   "metadata": {},
   "outputs": [
    {
     "data": {
      "text/plain": [
       "dict_keys(['businesses', 'total', 'region'])"
      ]
     },
     "execution_count": 21,
     "metadata": {},
     "output_type": "execute_result"
    }
   ],
   "source": [
    "response.json().keys()"
   ]
  },
  {
   "cell_type": "markdown",
   "metadata": {},
   "source": [
    "Now let's go a bit further and start to preview what's stored in each of the values for these keys."
   ]
  },
  {
   "cell_type": "code",
   "execution_count": 22,
   "metadata": {},
   "outputs": [
    {
     "name": "stdout",
     "output_type": "stream",
     "text": [
      "businesses\n",
      "<class 'list'>\n",
      "\n",
      "\n",
      "\n",
      "total\n",
      "<class 'int'>\n",
      "\n",
      "\n",
      "\n",
      "region\n",
      "<class 'dict'>\n",
      "\n",
      "\n",
      "\n"
     ]
    }
   ],
   "source": [
    "for key in response.json().keys():\n",
    "    print(key)\n",
    "    value = response.json()[key] #Use standard dictionary formatting\n",
    "    print(type(value)) #What type is it?\n",
    "    print('\\n\\n') #Separate out data"
   ]
  },
  {
   "cell_type": "markdown",
   "metadata": {},
   "source": [
    "Let's continue to preview these further to get a little better acquainted."
   ]
  },
  {
   "cell_type": "code",
   "execution_count": 23,
   "metadata": {},
   "outputs": [
    {
     "data": {
      "text/plain": [
       "[{'id': '20G3V7x_XqKEwcgiB2RIDQ',\n",
       "  'alias': 'the-taco-spot-nyc-queens',\n",
       "  'name': 'The Taco Spot NYC',\n",
       "  'image_url': 'https://s3-media1.fl.yelpcdn.com/bphoto/yb-7najS1zIABdFaN82xXg/o.jpg',\n",
       "  'is_closed': False,\n",
       "  'url': 'https://www.yelp.com/biz/the-taco-spot-nyc-queens?adjust_creative=6ObNOuQQ9GDPgs0E-sIgJA&utm_campaign=yelp_api_v3&utm_medium=api_v3_business_search&utm_source=6ObNOuQQ9GDPgs0E-sIgJA',\n",
       "  'review_count': 4,\n",
       "  'categories': [{'alias': 'newmexican', 'title': 'New Mexican Cuisine'},\n",
       "   {'alias': 'tacos', 'title': 'Tacos'}],\n",
       "  'rating': 5.0,\n",
       "  'coordinates': {'latitude': 40.771282, 'longitude': -73.9220834},\n",
       "  'transactions': ['pickup', 'delivery'],\n",
       "  'location': {'address1': '25-17 Astoria Blvd',\n",
       "   'address2': '',\n",
       "   'address3': None,\n",
       "   'city': 'Queens',\n",
       "   'zip_code': '11102',\n",
       "   'country': 'US',\n",
       "   'state': 'NY',\n",
       "   'display_address': ['25-17 Astoria Blvd', 'Queens, NY 11102']},\n",
       "  'phone': '+13475271414',\n",
       "  'display_phone': '(347) 527-1414',\n",
       "  'distance': 496.8180983238797},\n",
       " {'id': 'yvva7IYpD6J7OfKlCdQrkw',\n",
       "  'alias': 'mi-espiguita-taqueria-astoria',\n",
       "  'name': 'Mi Espiguita Taqueria',\n",
       "  'image_url': 'https://s3-media2.fl.yelpcdn.com/bphoto/R6xTyUnL-PAH0S8CLPkv8g/o.jpg',\n",
       "  'is_closed': False,\n",
       "  'url': 'https://www.yelp.com/biz/mi-espiguita-taqueria-astoria?adjust_creative=6ObNOuQQ9GDPgs0E-sIgJA&utm_campaign=yelp_api_v3&utm_medium=api_v3_business_search&utm_source=6ObNOuQQ9GDPgs0E-sIgJA',\n",
       "  'review_count': 115,\n",
       "  'categories': [{'alias': 'mexican', 'title': 'Mexican'}],\n",
       "  'rating': 4.5,\n",
       "  'coordinates': {'latitude': 40.7612033639422,\n",
       "   'longitude': -73.9261436462402},\n",
       "  'transactions': ['pickup', 'delivery'],\n",
       "  'price': '$',\n",
       "  'location': {'address1': '32-44 31st St',\n",
       "   'address2': '',\n",
       "   'address3': '',\n",
       "   'city': 'Astoria',\n",
       "   'zip_code': '11106',\n",
       "   'country': 'US',\n",
       "   'state': 'NY',\n",
       "   'display_address': ['32-44 31st St', 'Astoria, NY 11106']},\n",
       "  'phone': '+17187775648',\n",
       "  'display_phone': '(718) 777-5648',\n",
       "  'distance': 714.301080232381}]"
      ]
     },
     "execution_count": 23,
     "metadata": {},
     "output_type": "execute_result"
    }
   ],
   "source": [
    "response.json()['businesses'][:2]"
   ]
  },
  {
   "cell_type": "code",
   "execution_count": 24,
   "metadata": {},
   "outputs": [
    {
     "data": {
      "text/plain": [
       "689"
      ]
     },
     "execution_count": 24,
     "metadata": {},
     "output_type": "execute_result"
    }
   ],
   "source": [
    "response.json()['total']"
   ]
  },
  {
   "cell_type": "code",
   "execution_count": 25,
   "metadata": {},
   "outputs": [
    {
     "data": {
      "text/plain": [
       "{'center': {'longitude': -73.92219543457031, 'latitude': 40.76688875374591}}"
      ]
     },
     "execution_count": 25,
     "metadata": {},
     "output_type": "execute_result"
    }
   ],
   "source": [
    "response.json()['region']"
   ]
  },
  {
   "cell_type": "markdown",
   "metadata": {},
   "source": [
    "As you can see, we're primarily interested in the 'businesses' entry. \n",
    "\n",
    "Let's go ahead and create a dataframe from that."
   ]
  },
  {
   "cell_type": "code",
   "execution_count": 26,
   "metadata": {},
   "outputs": [
    {
     "name": "stdout",
     "output_type": "stream",
     "text": [
      "10\n",
      "Index(['id', 'alias', 'name', 'image_url', 'is_closed', 'url', 'review_count',\n",
      "       'categories', 'rating', 'coordinates', 'transactions', 'location',\n",
      "       'phone', 'display_phone', 'distance', 'price'],\n",
      "      dtype='object')\n"
     ]
    },
    {
     "data": {
      "text/html": [
       "<div>\n",
       "<style scoped>\n",
       "    .dataframe tbody tr th:only-of-type {\n",
       "        vertical-align: middle;\n",
       "    }\n",
       "\n",
       "    .dataframe tbody tr th {\n",
       "        vertical-align: top;\n",
       "    }\n",
       "\n",
       "    .dataframe thead th {\n",
       "        text-align: right;\n",
       "    }\n",
       "</style>\n",
       "<table border=\"1\" class=\"dataframe\">\n",
       "  <thead>\n",
       "    <tr style=\"text-align: right;\">\n",
       "      <th></th>\n",
       "      <th>id</th>\n",
       "      <th>alias</th>\n",
       "      <th>name</th>\n",
       "      <th>image_url</th>\n",
       "      <th>is_closed</th>\n",
       "      <th>url</th>\n",
       "      <th>review_count</th>\n",
       "      <th>categories</th>\n",
       "      <th>rating</th>\n",
       "      <th>coordinates</th>\n",
       "      <th>transactions</th>\n",
       "      <th>location</th>\n",
       "      <th>phone</th>\n",
       "      <th>display_phone</th>\n",
       "      <th>distance</th>\n",
       "      <th>price</th>\n",
       "    </tr>\n",
       "  </thead>\n",
       "  <tbody>\n",
       "    <tr>\n",
       "      <th>0</th>\n",
       "      <td>20G3V7x_XqKEwcgiB2RIDQ</td>\n",
       "      <td>the-taco-spot-nyc-queens</td>\n",
       "      <td>The Taco Spot NYC</td>\n",
       "      <td>https://s3-media1.fl.yelpcdn.com/bphoto/yb-7na...</td>\n",
       "      <td>False</td>\n",
       "      <td>https://www.yelp.com/biz/the-taco-spot-nyc-que...</td>\n",
       "      <td>4</td>\n",
       "      <td>[{'alias': 'newmexican', 'title': 'New Mexican...</td>\n",
       "      <td>5.0</td>\n",
       "      <td>{'latitude': 40.771282, 'longitude': -73.9220834}</td>\n",
       "      <td>[pickup, delivery]</td>\n",
       "      <td>{'address1': '25-17 Astoria Blvd', 'address2':...</td>\n",
       "      <td>+13475271414</td>\n",
       "      <td>(347) 527-1414</td>\n",
       "      <td>496.818098</td>\n",
       "      <td>NaN</td>\n",
       "    </tr>\n",
       "    <tr>\n",
       "      <th>1</th>\n",
       "      <td>yvva7IYpD6J7OfKlCdQrkw</td>\n",
       "      <td>mi-espiguita-taqueria-astoria</td>\n",
       "      <td>Mi Espiguita Taqueria</td>\n",
       "      <td>https://s3-media2.fl.yelpcdn.com/bphoto/R6xTyU...</td>\n",
       "      <td>False</td>\n",
       "      <td>https://www.yelp.com/biz/mi-espiguita-taqueria...</td>\n",
       "      <td>115</td>\n",
       "      <td>[{'alias': 'mexican', 'title': 'Mexican'}]</td>\n",
       "      <td>4.5</td>\n",
       "      <td>{'latitude': 40.7612033639422, 'longitude': -7...</td>\n",
       "      <td>[pickup, delivery]</td>\n",
       "      <td>{'address1': '32-44 31st St', 'address2': '', ...</td>\n",
       "      <td>+17187775648</td>\n",
       "      <td>(718) 777-5648</td>\n",
       "      <td>714.301080</td>\n",
       "      <td>$</td>\n",
       "    </tr>\n",
       "    <tr>\n",
       "      <th>2</th>\n",
       "      <td>jzVv_21473lAMYXIhVbuTA</td>\n",
       "      <td>de-mole-astoria-astoria</td>\n",
       "      <td>De Mole Astoria</td>\n",
       "      <td>https://s3-media4.fl.yelpcdn.com/bphoto/w56szE...</td>\n",
       "      <td>False</td>\n",
       "      <td>https://www.yelp.com/biz/de-mole-astoria-astor...</td>\n",
       "      <td>372</td>\n",
       "      <td>[{'alias': 'mexican', 'title': 'Mexican'}]</td>\n",
       "      <td>4.0</td>\n",
       "      <td>{'latitude': 40.7625999, 'longitude': -73.9129...</td>\n",
       "      <td>[pickup, delivery]</td>\n",
       "      <td>{'address1': '4220 30th Ave', 'address2': '', ...</td>\n",
       "      <td>+17187771655</td>\n",
       "      <td>(718) 777-1655</td>\n",
       "      <td>915.607446</td>\n",
       "      <td>$$</td>\n",
       "    </tr>\n",
       "    <tr>\n",
       "      <th>3</th>\n",
       "      <td>AUyKmFjpaVLwc3awfUnqgQ</td>\n",
       "      <td>chela-and-garnacha-astoria</td>\n",
       "      <td>Chela &amp; Garnacha</td>\n",
       "      <td>https://s3-media1.fl.yelpcdn.com/bphoto/ChVbA1...</td>\n",
       "      <td>False</td>\n",
       "      <td>https://www.yelp.com/biz/chela-and-garnacha-as...</td>\n",
       "      <td>380</td>\n",
       "      <td>[{'alias': 'mexican', 'title': 'Mexican'}, {'a...</td>\n",
       "      <td>4.5</td>\n",
       "      <td>{'latitude': 40.7557171543477, 'longitude': -7...</td>\n",
       "      <td>[pickup, delivery]</td>\n",
       "      <td>{'address1': '33-09 36th Ave', 'address2': '',...</td>\n",
       "      <td>+19178326876</td>\n",
       "      <td>(917) 832-6876</td>\n",
       "      <td>1318.326547</td>\n",
       "      <td>$$</td>\n",
       "    </tr>\n",
       "    <tr>\n",
       "      <th>4</th>\n",
       "      <td>EHUNrnIgnhwTnpOm3gEESg</td>\n",
       "      <td>tacuba-astoria</td>\n",
       "      <td>Tacuba</td>\n",
       "      <td>https://s3-media2.fl.yelpcdn.com/bphoto/ijC8aZ...</td>\n",
       "      <td>False</td>\n",
       "      <td>https://www.yelp.com/biz/tacuba-astoria?adjust...</td>\n",
       "      <td>658</td>\n",
       "      <td>[{'alias': 'mexican', 'title': 'Mexican'}, {'a...</td>\n",
       "      <td>4.0</td>\n",
       "      <td>{'latitude': 40.75585, 'longitude': -73.92447}</td>\n",
       "      <td>[pickup, delivery]</td>\n",
       "      <td>{'address1': '35-01 36th St', 'address2': '', ...</td>\n",
       "      <td>+17187862727</td>\n",
       "      <td>(718) 786-2727</td>\n",
       "      <td>1229.351705</td>\n",
       "      <td>$$</td>\n",
       "    </tr>\n",
       "  </tbody>\n",
       "</table>\n",
       "</div>"
      ],
      "text/plain": [
       "                       id                          alias  \\\n",
       "0  20G3V7x_XqKEwcgiB2RIDQ       the-taco-spot-nyc-queens   \n",
       "1  yvva7IYpD6J7OfKlCdQrkw  mi-espiguita-taqueria-astoria   \n",
       "2  jzVv_21473lAMYXIhVbuTA        de-mole-astoria-astoria   \n",
       "3  AUyKmFjpaVLwc3awfUnqgQ     chela-and-garnacha-astoria   \n",
       "4  EHUNrnIgnhwTnpOm3gEESg                 tacuba-astoria   \n",
       "\n",
       "                    name                                          image_url  \\\n",
       "0      The Taco Spot NYC  https://s3-media1.fl.yelpcdn.com/bphoto/yb-7na...   \n",
       "1  Mi Espiguita Taqueria  https://s3-media2.fl.yelpcdn.com/bphoto/R6xTyU...   \n",
       "2        De Mole Astoria  https://s3-media4.fl.yelpcdn.com/bphoto/w56szE...   \n",
       "3       Chela & Garnacha  https://s3-media1.fl.yelpcdn.com/bphoto/ChVbA1...   \n",
       "4                 Tacuba  https://s3-media2.fl.yelpcdn.com/bphoto/ijC8aZ...   \n",
       "\n",
       "   is_closed                                                url  review_count  \\\n",
       "0      False  https://www.yelp.com/biz/the-taco-spot-nyc-que...             4   \n",
       "1      False  https://www.yelp.com/biz/mi-espiguita-taqueria...           115   \n",
       "2      False  https://www.yelp.com/biz/de-mole-astoria-astor...           372   \n",
       "3      False  https://www.yelp.com/biz/chela-and-garnacha-as...           380   \n",
       "4      False  https://www.yelp.com/biz/tacuba-astoria?adjust...           658   \n",
       "\n",
       "                                          categories  rating  \\\n",
       "0  [{'alias': 'newmexican', 'title': 'New Mexican...     5.0   \n",
       "1         [{'alias': 'mexican', 'title': 'Mexican'}]     4.5   \n",
       "2         [{'alias': 'mexican', 'title': 'Mexican'}]     4.0   \n",
       "3  [{'alias': 'mexican', 'title': 'Mexican'}, {'a...     4.5   \n",
       "4  [{'alias': 'mexican', 'title': 'Mexican'}, {'a...     4.0   \n",
       "\n",
       "                                         coordinates        transactions  \\\n",
       "0  {'latitude': 40.771282, 'longitude': -73.9220834}  [pickup, delivery]   \n",
       "1  {'latitude': 40.7612033639422, 'longitude': -7...  [pickup, delivery]   \n",
       "2  {'latitude': 40.7625999, 'longitude': -73.9129...  [pickup, delivery]   \n",
       "3  {'latitude': 40.7557171543477, 'longitude': -7...  [pickup, delivery]   \n",
       "4     {'latitude': 40.75585, 'longitude': -73.92447}  [pickup, delivery]   \n",
       "\n",
       "                                            location         phone  \\\n",
       "0  {'address1': '25-17 Astoria Blvd', 'address2':...  +13475271414   \n",
       "1  {'address1': '32-44 31st St', 'address2': '', ...  +17187775648   \n",
       "2  {'address1': '4220 30th Ave', 'address2': '', ...  +17187771655   \n",
       "3  {'address1': '33-09 36th Ave', 'address2': '',...  +19178326876   \n",
       "4  {'address1': '35-01 36th St', 'address2': '', ...  +17187862727   \n",
       "\n",
       "    display_phone     distance price  \n",
       "0  (347) 527-1414   496.818098   NaN  \n",
       "1  (718) 777-5648   714.301080     $  \n",
       "2  (718) 777-1655   915.607446    $$  \n",
       "3  (917) 832-6876  1318.326547    $$  \n",
       "4  (718) 786-2727  1229.351705    $$  "
      ]
     },
     "execution_count": 26,
     "metadata": {},
     "output_type": "execute_result"
    }
   ],
   "source": [
    "import pandas as pd\n",
    "\n",
    "df = pd.DataFrame.from_dict(response.json()['businesses'])\n",
    "print(len(df)) #Print how many rows\n",
    "print(df.columns) #Print column names\n",
    "df.head() #Previews the first five rows. \n",
    "#You could also write df.head(10) to preview 10 rows or df.tail() to see the bottom"
   ]
  },
  {
   "cell_type": "markdown",
   "metadata": {},
   "source": [
    "## Summary <a id=\"sum\"></a>\n",
    "\n",
    "Congratulations! We've covered a lot here! We took some of your previous knowledge with HTTP requests and OAuth in order to leverage an enterprise API! Then we made some requests to retrieve information that came back as a JSON format. We then transformed this data into a dataframe using the Pandas package. In the next lab, we'll break down how to read API documentation!"
   ]
  }
 ],
 "metadata": {
  "kernelspec": {
   "display_name": "Python 3",
   "language": "python",
   "name": "python3"
  },
  "language_info": {
   "codemirror_mode": {
    "name": "ipython",
    "version": 3
   },
   "file_extension": ".py",
   "mimetype": "text/x-python",
   "name": "python",
   "nbconvert_exporter": "python",
   "pygments_lexer": "ipython3",
   "version": "3.6.9"
  },
  "toc": {
   "base_numbering": 1,
   "nav_menu": {},
   "number_sections": true,
   "sideBar": true,
   "skip_h1_title": false,
   "title_cell": "Table of Contents",
   "title_sidebar": "Contents",
   "toc_cell": false,
   "toc_position": {},
   "toc_section_display": true,
   "toc_window_display": false
  }
 },
 "nbformat": 4,
 "nbformat_minor": 2
}
